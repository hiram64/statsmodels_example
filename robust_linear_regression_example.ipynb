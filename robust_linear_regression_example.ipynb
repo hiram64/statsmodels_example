{
 "cells": [
  {
   "cell_type": "markdown",
   "metadata": {},
   "source": [
    "This notebook is for unsderstanding Robust Linear Regression of statsmodels\n",
    "\n",
    "Reference : https://www.statsmodels.org/stable/generated/statsmodels.robust.robust_linear_model.RLM.html\n",
    "\n",
    "versions :\n",
    "\n",
    "    python 3.6.2\n",
    "    statsmodels 0.8.0\n",
    "    scikit-learn 0.19.1"
   ]
  },
  {
   "cell_type": "code",
   "execution_count": 1,
   "metadata": {
    "collapsed": true
   },
   "outputs": [],
   "source": [
    "import warnings\n",
    "warnings.simplefilter(action='ignore')\n",
    "\n",
    "import matplotlib.pylab as plt\n",
    "import numpy as np\n",
    "import pandas as pd\n",
    "from sklearn.model_selection import train_test_split\n",
    "import statsmodels.api as sm\n",
    "import statsmodels.tools as st\n",
    "\n",
    "%load_ext autoreload\n",
    "%autoreload 2\n",
    "%matplotlib inline"
   ]
  },
  {
   "cell_type": "markdown",
   "metadata": {},
   "source": [
    "# Prepare Data"
   ]
  },
  {
   "cell_type": "code",
   "execution_count": 2,
   "metadata": {
    "collapsed": true
   },
   "outputs": [],
   "source": [
    "# load data to use\n",
    "data = sm.datasets.stackloss.load()"
   ]
  },
  {
   "cell_type": "code",
   "execution_count": 3,
   "metadata": {
    "collapsed": true
   },
   "outputs": [],
   "source": [
    "X = pd.DataFrame(data.exog, columns=data.exog_name)\n",
    "Y = pd.DataFrame(data.endog, columns=[data.endog_name])"
   ]
  },
  {
   "cell_type": "code",
   "execution_count": 4,
   "metadata": {},
   "outputs": [
    {
     "data": {
      "text/html": [
       "<div>\n",
       "<style>\n",
       "    .dataframe thead tr:only-child th {\n",
       "        text-align: right;\n",
       "    }\n",
       "\n",
       "    .dataframe thead th {\n",
       "        text-align: left;\n",
       "    }\n",
       "\n",
       "    .dataframe tbody tr th {\n",
       "        vertical-align: top;\n",
       "    }\n",
       "</style>\n",
       "<table border=\"1\" class=\"dataframe\">\n",
       "  <thead>\n",
       "    <tr style=\"text-align: right;\">\n",
       "      <th></th>\n",
       "      <th>AIRFLOW</th>\n",
       "      <th>WATERTEMP</th>\n",
       "      <th>ACIDCONC</th>\n",
       "    </tr>\n",
       "  </thead>\n",
       "  <tbody>\n",
       "    <tr>\n",
       "      <th>0</th>\n",
       "      <td>80.0</td>\n",
       "      <td>27.0</td>\n",
       "      <td>89.0</td>\n",
       "    </tr>\n",
       "    <tr>\n",
       "      <th>1</th>\n",
       "      <td>80.0</td>\n",
       "      <td>27.0</td>\n",
       "      <td>88.0</td>\n",
       "    </tr>\n",
       "    <tr>\n",
       "      <th>2</th>\n",
       "      <td>75.0</td>\n",
       "      <td>25.0</td>\n",
       "      <td>90.0</td>\n",
       "    </tr>\n",
       "    <tr>\n",
       "      <th>3</th>\n",
       "      <td>62.0</td>\n",
       "      <td>24.0</td>\n",
       "      <td>87.0</td>\n",
       "    </tr>\n",
       "    <tr>\n",
       "      <th>4</th>\n",
       "      <td>62.0</td>\n",
       "      <td>22.0</td>\n",
       "      <td>87.0</td>\n",
       "    </tr>\n",
       "    <tr>\n",
       "      <th>5</th>\n",
       "      <td>62.0</td>\n",
       "      <td>23.0</td>\n",
       "      <td>87.0</td>\n",
       "    </tr>\n",
       "    <tr>\n",
       "      <th>6</th>\n",
       "      <td>62.0</td>\n",
       "      <td>24.0</td>\n",
       "      <td>93.0</td>\n",
       "    </tr>\n",
       "    <tr>\n",
       "      <th>7</th>\n",
       "      <td>62.0</td>\n",
       "      <td>24.0</td>\n",
       "      <td>93.0</td>\n",
       "    </tr>\n",
       "    <tr>\n",
       "      <th>8</th>\n",
       "      <td>58.0</td>\n",
       "      <td>23.0</td>\n",
       "      <td>87.0</td>\n",
       "    </tr>\n",
       "    <tr>\n",
       "      <th>9</th>\n",
       "      <td>58.0</td>\n",
       "      <td>18.0</td>\n",
       "      <td>80.0</td>\n",
       "    </tr>\n",
       "    <tr>\n",
       "      <th>10</th>\n",
       "      <td>58.0</td>\n",
       "      <td>18.0</td>\n",
       "      <td>89.0</td>\n",
       "    </tr>\n",
       "    <tr>\n",
       "      <th>11</th>\n",
       "      <td>58.0</td>\n",
       "      <td>17.0</td>\n",
       "      <td>88.0</td>\n",
       "    </tr>\n",
       "    <tr>\n",
       "      <th>12</th>\n",
       "      <td>58.0</td>\n",
       "      <td>18.0</td>\n",
       "      <td>82.0</td>\n",
       "    </tr>\n",
       "    <tr>\n",
       "      <th>13</th>\n",
       "      <td>58.0</td>\n",
       "      <td>19.0</td>\n",
       "      <td>93.0</td>\n",
       "    </tr>\n",
       "    <tr>\n",
       "      <th>14</th>\n",
       "      <td>50.0</td>\n",
       "      <td>18.0</td>\n",
       "      <td>89.0</td>\n",
       "    </tr>\n",
       "    <tr>\n",
       "      <th>15</th>\n",
       "      <td>50.0</td>\n",
       "      <td>18.0</td>\n",
       "      <td>86.0</td>\n",
       "    </tr>\n",
       "    <tr>\n",
       "      <th>16</th>\n",
       "      <td>50.0</td>\n",
       "      <td>19.0</td>\n",
       "      <td>72.0</td>\n",
       "    </tr>\n",
       "    <tr>\n",
       "      <th>17</th>\n",
       "      <td>50.0</td>\n",
       "      <td>19.0</td>\n",
       "      <td>79.0</td>\n",
       "    </tr>\n",
       "    <tr>\n",
       "      <th>18</th>\n",
       "      <td>50.0</td>\n",
       "      <td>20.0</td>\n",
       "      <td>80.0</td>\n",
       "    </tr>\n",
       "    <tr>\n",
       "      <th>19</th>\n",
       "      <td>56.0</td>\n",
       "      <td>20.0</td>\n",
       "      <td>82.0</td>\n",
       "    </tr>\n",
       "    <tr>\n",
       "      <th>20</th>\n",
       "      <td>70.0</td>\n",
       "      <td>20.0</td>\n",
       "      <td>91.0</td>\n",
       "    </tr>\n",
       "  </tbody>\n",
       "</table>\n",
       "</div>"
      ],
      "text/plain": [
       "    AIRFLOW  WATERTEMP  ACIDCONC\n",
       "0      80.0       27.0      89.0\n",
       "1      80.0       27.0      88.0\n",
       "2      75.0       25.0      90.0\n",
       "3      62.0       24.0      87.0\n",
       "4      62.0       22.0      87.0\n",
       "5      62.0       23.0      87.0\n",
       "6      62.0       24.0      93.0\n",
       "7      62.0       24.0      93.0\n",
       "8      58.0       23.0      87.0\n",
       "9      58.0       18.0      80.0\n",
       "10     58.0       18.0      89.0\n",
       "11     58.0       17.0      88.0\n",
       "12     58.0       18.0      82.0\n",
       "13     58.0       19.0      93.0\n",
       "14     50.0       18.0      89.0\n",
       "15     50.0       18.0      86.0\n",
       "16     50.0       19.0      72.0\n",
       "17     50.0       19.0      79.0\n",
       "18     50.0       20.0      80.0\n",
       "19     56.0       20.0      82.0\n",
       "20     70.0       20.0      91.0"
      ]
     },
     "execution_count": 4,
     "metadata": {},
     "output_type": "execute_result"
    }
   ],
   "source": [
    "# view the content of data as DataFrame\n",
    "X"
   ]
  },
  {
   "cell_type": "code",
   "execution_count": 5,
   "metadata": {},
   "outputs": [
    {
     "data": {
      "text/plain": [
       "array([[<matplotlib.axes._subplots.AxesSubplot object at 0x10b294710>]],\n",
       "      dtype=object)"
      ]
     },
     "execution_count": 5,
     "metadata": {},
     "output_type": "execute_result"
    },
    {
     "data": {
      "image/png": "[encoded data removed]",
      "text/plain": [
       "<matplotlib.figure.Figure at 0x124890e48>"
      ]
     },
     "metadata": {},
     "output_type": "display_data"
    }
   ],
   "source": [
    "# check histgram of STACKLOSS. There seems to be some possible outliers away from the main cluter. \n",
    "Y.hist()"
   ]
  },
  {
   "cell_type": "code",
   "execution_count": 6,
   "metadata": {},
   "outputs": [
    {
     "data": {
      "text/plain": [
       "[<matplotlib.lines.Line2D at 0x126abd9e8>]"
      ]
     },
     "execution_count": 6,
     "metadata": {},
     "output_type": "execute_result"
    },
    {
     "data": {
      "image/png": "[encoded data removed]",
      "text/plain": [
       "<matplotlib.figure.Figure at 0x124986390>"
      ]
     },
     "metadata": {},
     "output_type": "display_data"
    },
    {
     "data": {
      "image/png": "[encoded data removed]",
      "text/plain": [
       "<matplotlib.figure.Figure at 0x126a2ce80>"
      ]
     },
     "metadata": {},
     "output_type": "display_data"
    },
    {
     "data": {
      "image/png": "[encoded data removed]",
      "text/plain": [
       "<matplotlib.figure.Figure at 0x126a79c18>"
      ]
     },
     "metadata": {},
     "output_type": "display_data"
    }
   ],
   "source": [
    "# distribution of STACKLOSS vs other variables\n",
    "\n",
    "plt.figure(1)\n",
    "plt.xlabel('AIRFLOW')\n",
    "plt.ylabel('STACKLOSS')\n",
    "plt.grid(True)\n",
    "plt.plot(X['AIRFLOW'], Y, 'o', color='blue')\n",
    "\n",
    "plt.figure(2)\n",
    "plt.xlabel('WATERTEMP')\n",
    "plt.ylabel('STACKLOSS')\n",
    "plt.grid(True)\n",
    "plt.plot(X['WATERTEMP'], Y, 'o', color='blue')\n",
    "\n",
    "plt.figure(3)\n",
    "plt.xlabel('ACIDCONC')\n",
    "plt.ylabel('STACKLOSS')\n",
    "plt.grid(True)\n",
    "plt.plot(X['ACIDCONC'], Y, 'o', color='blue')"
   ]
  },
  {
   "cell_type": "code",
   "execution_count": 7,
   "metadata": {},
   "outputs": [
    {
     "data": {
      "text/html": [
       "<div>\n",
       "<style>\n",
       "    .dataframe thead tr:only-child th {\n",
       "        text-align: right;\n",
       "    }\n",
       "\n",
       "    .dataframe thead th {\n",
       "        text-align: left;\n",
       "    }\n",
       "\n",
       "    .dataframe tbody tr th {\n",
       "        vertical-align: top;\n",
       "    }\n",
       "</style>\n",
       "<table border=\"1\" class=\"dataframe\">\n",
       "  <thead>\n",
       "    <tr style=\"text-align: right;\">\n",
       "      <th></th>\n",
       "      <th>STACKLOSS</th>\n",
       "      <th>AIRFLOW</th>\n",
       "      <th>WATERTEMP</th>\n",
       "      <th>ACIDCONC</th>\n",
       "    </tr>\n",
       "  </thead>\n",
       "  <tbody>\n",
       "    <tr>\n",
       "      <th>STACKLOSS</th>\n",
       "      <td>1.000000</td>\n",
       "      <td>0.919663</td>\n",
       "      <td>0.875504</td>\n",
       "      <td>0.399830</td>\n",
       "    </tr>\n",
       "    <tr>\n",
       "      <th>AIRFLOW</th>\n",
       "      <td>0.919663</td>\n",
       "      <td>1.000000</td>\n",
       "      <td>0.781852</td>\n",
       "      <td>0.500143</td>\n",
       "    </tr>\n",
       "    <tr>\n",
       "      <th>WATERTEMP</th>\n",
       "      <td>0.875504</td>\n",
       "      <td>0.781852</td>\n",
       "      <td>1.000000</td>\n",
       "      <td>0.390940</td>\n",
       "    </tr>\n",
       "    <tr>\n",
       "      <th>ACIDCONC</th>\n",
       "      <td>0.399830</td>\n",
       "      <td>0.500143</td>\n",
       "      <td>0.390940</td>\n",
       "      <td>1.000000</td>\n",
       "    </tr>\n",
       "  </tbody>\n",
       "</table>\n",
       "</div>"
      ],
      "text/plain": [
       "           STACKLOSS   AIRFLOW  WATERTEMP  ACIDCONC\n",
       "STACKLOSS   1.000000  0.919663   0.875504  0.399830\n",
       "AIRFLOW     0.919663  1.000000   0.781852  0.500143\n",
       "WATERTEMP   0.875504  0.781852   1.000000  0.390940\n",
       "ACIDCONC    0.399830  0.500143   0.390940  1.000000"
      ]
     },
     "execution_count": 7,
     "metadata": {},
     "output_type": "execute_result"
    }
   ],
   "source": [
    "# Correlation coefficient\n",
    "Z = pd.concat([Y, X], axis=1)\n",
    "Z.corr()"
   ]
  },
  {
   "cell_type": "markdown",
   "metadata": {},
   "source": [
    "# Modeling"
   ]
  },
  {
   "cell_type": "code",
   "execution_count": 8,
   "metadata": {},
   "outputs": [
    {
     "name": "stdout",
     "output_type": "stream",
     "text": [
      "--- Estimated Parameters ---\n",
      "[-41.02649835   0.82938433   0.92606597  -0.12784672]\n",
      "--- Standard Error of Estimated Parameters ---\n",
      "[9.79189854 0.11100521 0.30293016 0.12864961]\n",
      "--- Result ---\n",
      "                    Robust linear Model Regression Results                    \n",
      "==============================================================================\n",
      "Dep. Variable:                      y   No. Observations:                   21\n",
      "Model:                            RLM   Df Residuals:                       17\n",
      "Method:                          IRLS   Df Model:                            3\n",
      "Norm:                          HuberT                                         \n",
      "Scale Est.:                       mad                                         \n",
      "Cov Type:                          H1                                         \n",
      "Date:                Thu, 02 May 2019                                         \n",
      "Time:                        01:46:19                                         \n",
      "No. Iterations:                    19                                         \n",
      "==============================================================================\n",
      "                 coef    std err          z      P>|z|      [0.025      0.975]\n",
      "------------------------------------------------------------------------------\n",
      "var_0        -41.0265      9.792     -4.190      0.000     -60.218     -21.835\n",
      "var_1          0.8294      0.111      7.472      0.000       0.612       1.047\n",
      "var_2          0.9261      0.303      3.057      0.002       0.332       1.520\n",
      "var_3         -0.1278      0.129     -0.994      0.320      -0.380       0.124\n",
      "==============================================================================\n",
      "\n",
      "If the model instance has been used for another fit with different fit\n",
      "parameters, then the fit options might not be the correct ones anymore .\n"
     ]
    }
   ],
   "source": [
    "# add constant term to exogenous variable as well as the case of OLS \n",
    "data.exog = sm.add_constant(data.exog)\n",
    "\n",
    "# M : robust criterion function for downweighting outliers. \n",
    "# There are other options : LeastSquares, HuberT, RamsayE, AndrewWave, TrimmedMean, Hampel, and TukeyBiweight \n",
    "# See the shapes of these weight fucntions : https://www.statsmodels.org/stable/rlm_techn1.html\n",
    "\n",
    "huber_t = sm.RLM(data.endog, data.exog, M=sm.robust.norms.HuberT()) # use Huber weight function\n",
    "hub_results = huber_t.fit()\n",
    "\n",
    "print('--- Estimated Parameters ---')\n",
    "print(hub_results.params)\n",
    "\n",
    "print('--- Standard Error of Estimated Parameters ---')\n",
    "print(hub_results.bse)\n",
    "\n",
    "print('--- Result ---')\n",
    "print(hub_results.summary(yname='y', xname=['var_%d' % i for i in range(len(hub_results.params))]))"
   ]
  },
  {
   "cell_type": "markdown",
   "metadata": {},
   "source": [
    "# Prediction"
   ]
  },
  {
   "cell_type": "code",
   "execution_count": 9,
   "metadata": {
    "collapsed": true
   },
   "outputs": [],
   "source": [
    "# prediction of training data(not test data)\n",
    "huber_predicted = hub_results.predict(data.exog)"
   ]
  },
  {
   "cell_type": "code",
   "execution_count": 10,
   "metadata": {},
   "outputs": [
    {
     "data": {
      "text/plain": [
       "[<matplotlib.lines.Line2D at 0x126cc5128>]"
      ]
     },
     "execution_count": 10,
     "metadata": {},
     "output_type": "execute_result"
    },
    {
     "data": {
      "image/png": "[encoded data removed]",
      "text/plain": [
       "<matplotlib.figure.Figure at 0x124989be0>"
      ]
     },
     "metadata": {},
     "output_type": "display_data"
    }
   ],
   "source": [
    "# visualize\n",
    "plt.figure()\n",
    "plt.xlabel('prediction')\n",
    "plt.ylabel('target')\n",
    "plt.grid(True)\n",
    "\n",
    "# auxiliary line \n",
    "plt.plot([0, 50], [0, 50], 'k-')\n",
    "\n",
    "plt.plot(huber_predicted, data.endog, 'o', color='blue')"
   ]
  },
  {
   "cell_type": "markdown",
   "metadata": {},
   "source": [
    "# Compare to OLS"
   ]
  },
  {
   "cell_type": "code",
   "execution_count": 11,
   "metadata": {},
   "outputs": [
    {
     "name": "stdout",
     "output_type": "stream",
     "text": [
      "--- Result ---\n",
      "                    Robust linear Model Regression Results                    \n",
      "==============================================================================\n",
      "Dep. Variable:                      y   No. Observations:                   21\n",
      "Model:                            RLM   Df Residuals:                       17\n",
      "Method:                          IRLS   Df Model:                            3\n",
      "Norm:                    LeastSquares                                         \n",
      "Scale Est.:                       mad                                         \n",
      "Cov Type:                          H1                                         \n",
      "Date:                Thu, 02 May 2019                                         \n",
      "Time:                        01:46:20                                         \n",
      "No. Iterations:                     2                                         \n",
      "==============================================================================\n",
      "                 coef    std err          z      P>|z|      [0.025      0.975]\n",
      "------------------------------------------------------------------------------\n",
      "var_0        -39.9197     11.896     -3.356      0.001     -63.235     -16.604\n",
      "var_1          0.7156      0.135      5.307      0.000       0.451       0.980\n",
      "var_2          1.2953      0.368      3.520      0.000       0.574       2.017\n",
      "var_3         -0.1521      0.156     -0.973      0.330      -0.458       0.154\n",
      "==============================================================================\n",
      "\n",
      "If the model instance has been used for another fit with different fit\n",
      "parameters, then the fit options might not be the correct ones anymore .\n"
     ]
    }
   ],
   "source": [
    "ols_model = sm.RLM(data.endog, data.exog, M=sm.robust.norms.LeastSquares()) # set M to be the criterion of OLS\n",
    "ols_results = ols_model.fit()\n",
    "\n",
    "print('--- Result ---')\n",
    "print(ols_results.summary(yname='y', xname=['var_%d' % i for i in range(len(ols_results.params))]))\n",
    "\n",
    "ols_predicted = ols_results.predict(data.exog)"
   ]
  },
  {
   "cell_type": "code",
   "execution_count": 12,
   "metadata": {},
   "outputs": [
    {
     "data": {
      "text/plain": [
       "[<matplotlib.lines.Line2D at 0x126d22f60>]"
      ]
     },
     "execution_count": 12,
     "metadata": {},
     "output_type": "execute_result"
    },
    {
     "data": {
      "image/png": "[encoded data removed]",
      "text/plain": [
       "<matplotlib.figure.Figure at 0x126ccd7b8>"
      ]
     },
     "metadata": {},
     "output_type": "display_data"
    }
   ],
   "source": [
    "# visualize\n",
    "plt.figure()\n",
    "plt.xlabel('prediction')\n",
    "plt.ylabel('target')\n",
    "plt.grid(True)\n",
    "\n",
    "# auxiliary line \n",
    "plt.plot([0, 50], [0, 50], 'k-')\n",
    "\n",
    "plt.plot(huber_predicted, data.endog, 'o', color='blue')\n",
    "plt.plot(ols_predicted, data.endog, 'o', color='orange')"
   ]
  },
  {
   "cell_type": "code",
   "execution_count": 13,
   "metadata": {},
   "outputs": [
    {
     "name": "stdout",
     "output_type": "stream",
     "text": [
      "MSE(Robust LR) :  9.073643089346657\n",
      "MSE(OLS) :  8.515712457064692\n"
     ]
    }
   ],
   "source": [
    "# Mean Squared Error of Robust Linear Regression(Huber weight function)\n",
    "huber_mse = st.eval_measures.mse(data.endog, huber_predicted)\n",
    "print('MSE(Robust LR) : ', huber_mse)\n",
    "\n",
    "# Mean Squared Error of OLS\n",
    "ols_mse = st.eval_measures.mse(data.endog, ols_predicted)\n",
    "print('MSE(OLS) : ', ols_mse)\n",
    "\n",
    "# By only checking how training data fit to the model, OLS is more fittable than RLS. Estimation using test data should be done to see its effect."
   ]
  }
 ],
 "metadata": {
  "kernelspec": {
   "display_name": "Python 3",
   "language": "python",
   "name": "python3"
  },
  "language_info": {
   "codemirror_mode": {
    "name": "ipython",
    "version": 3
   },
   "file_extension": ".py",
   "mimetype": "text/x-python",
   "name": "python",
   "nbconvert_exporter": "python",
   "pygments_lexer": "ipython3",
   "version": "3.6.2"
  },
  "toc": {
   "base_numbering": 1,
   "nav_menu": {},
   "number_sections": true,
   "sideBar": true,
   "skip_h1_title": false,
   "title_cell": "Table of Contents",
   "title_sidebar": "Contents",
   "toc_cell": false,
   "toc_position": {},
   "toc_section_display": true,
   "toc_window_display": false
  }
 },
 "nbformat": 4,
 "nbformat_minor": 2
}
