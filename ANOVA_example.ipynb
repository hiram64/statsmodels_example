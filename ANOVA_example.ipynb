{
 "cells": [
  {
   "cell_type": "markdown",
   "metadata": {},
   "source": [
    "This notebook is for unsderstanding ANOVA(Analysis of Variance) of statsmodels\n",
    "\n",
    "Reference : https://www.statsmodels.org/dev/anova.html\n",
    "\n",
    "versions :  \n",
    "- python 3.6.2  \n",
    "- statsmodels 0.8.0  \n",
    "- scikit-learn 0.19.1 "
   ]
  },
  {
   "cell_type": "code",
   "execution_count": 1,
   "metadata": {
    "collapsed": true
   },
   "outputs": [],
   "source": [
    "import warnings\n",
    "warnings.simplefilter(action='ignore')\n",
    "\n",
    "import matplotlib.pylab as plt\n",
    "import numpy as np\n",
    "import pandas as pd\n",
    "from sklearn.model_selection import train_test_split\n",
    "import statsmodels.api as sm\n",
    "from statsmodels.formula.api import ols\n",
    "\n",
    "%load_ext autoreload\n",
    "%autoreload 2\n",
    "%matplotlib inline"
   ]
  },
  {
   "cell_type": "markdown",
   "metadata": {},
   "source": [
    "# Load and check data"
   ]
  },
  {
   "cell_type": "code",
   "execution_count": 2,
   "metadata": {
    "collapsed": true
   },
   "outputs": [],
   "source": [
    "# Get R dataset\n",
    "moore = sm.datasets.get_rdataset(\"Moore\", \"carData\", cache=True)"
   ]
  },
  {
   "cell_type": "code",
   "execution_count": 4,
   "metadata": {
    "collapsed": true
   },
   "outputs": [],
   "source": [
    "data = moore.data\n",
    "data = data.rename(columns={\"partner.status\": \"partner_status\"})"
   ]
  },
  {
   "cell_type": "code",
   "execution_count": 5,
   "metadata": {},
   "outputs": [
    {
     "name": "stdout",
     "output_type": "stream",
     "text": [
      "Number of rows :  45\n",
      "Column Name :  Index(['partner_status', 'conformity', 'fcategory', 'fscore'], dtype='object')\n",
      "----------\n",
      "  partner_status  conformity fcategory  fscore\n",
      "0            low           8       low      37\n",
      "1            low           4      high      57\n",
      "2            low           8      high      65\n",
      "3            low           7       low      20\n",
      "4            low          10       low      36\n"
     ]
    }
   ],
   "source": [
    "print('Number of rows : ', len(data))\n",
    "print('Column Name : ', data.columns)\n",
    "print('-' * 10)\n",
    "print(data.head())"
   ]
  },
  {
   "cell_type": "code",
   "execution_count": 6,
   "metadata": {
    "collapsed": true
   },
   "outputs": [],
   "source": [
    "moore_lm = ols('conformity ~ C(fcategory, Sum) * C(partner_status, Sum)', data=data).fit()"
   ]
  },
  {
   "cell_type": "code",
   "execution_count": 10,
   "metadata": {},
   "outputs": [
    {
     "data": {
      "text/html": [
       "<table class=\"simpletable\">\n",
       "<caption>OLS Regression Results</caption>\n",
       "<tr>\n",
       "  <th>Dep. Variable:</th>       <td>conformity</td>    <th>  R-squared:         </th> <td>   0.324</td>\n",
       "</tr>\n",
       "<tr>\n",
       "  <th>Model:</th>                   <td>OLS</td>       <th>  Adj. R-squared:    </th> <td>   0.237</td>\n",
       "</tr>\n",
       "<tr>\n",
       "  <th>Method:</th>             <td>Least Squares</td>  <th>  F-statistic:       </th> <td>   3.734</td>\n",
       "</tr>\n",
       "<tr>\n",
       "  <th>Date:</th>             <td>Sun, 03 Mar 2019</td> <th>  Prob (F-statistic):</th>  <td>0.00740</td>\n",
       "</tr>\n",
       "<tr>\n",
       "  <th>Time:</th>                 <td>22:49:04</td>     <th>  Log-Likelihood:    </th> <td> -129.10</td>\n",
       "</tr>\n",
       "<tr>\n",
       "  <th>No. Observations:</th>      <td>    45</td>      <th>  AIC:               </th> <td>   270.2</td>\n",
       "</tr>\n",
       "<tr>\n",
       "  <th>Df Residuals:</th>          <td>    39</td>      <th>  BIC:               </th> <td>   281.0</td>\n",
       "</tr>\n",
       "<tr>\n",
       "  <th>Df Model:</th>              <td>     5</td>      <th>                     </th>     <td> </td>   \n",
       "</tr>\n",
       "<tr>\n",
       "  <th>Covariance Type:</th>      <td>nonrobust</td>    <th>                     </th>     <td> </td>   \n",
       "</tr>\n",
       "</table>\n",
       "<table class=\"simpletable\">\n",
       "<tr>\n",
       "                              <td></td>                                <th>coef</th>     <th>std err</th>      <th>t</th>      <th>P>|t|</th>  <th>[0.025</th>    <th>0.975]</th>  \n",
       "</tr>\n",
       "<tr>\n",
       "  <th>Intercept</th>                                                <td>   12.0508</td> <td>    0.728</td> <td>   16.564</td> <td> 0.000</td> <td>   10.579</td> <td>   13.522</td>\n",
       "</tr>\n",
       "<tr>\n",
       "  <th>C(fcategory, Sum)[S.high]</th>                                <td>    0.1903</td> <td>    0.999</td> <td>    0.191</td> <td> 0.850</td> <td>   -1.830</td> <td>    2.210</td>\n",
       "</tr>\n",
       "<tr>\n",
       "  <th>C(fcategory, Sum)[S.low]</th>                                 <td>    1.0992</td> <td>    1.026</td> <td>    1.071</td> <td> 0.291</td> <td>   -0.977</td> <td>    3.175</td>\n",
       "</tr>\n",
       "<tr>\n",
       "  <th>C(partner_status, Sum)[S.high]</th>                           <td>    2.4591</td> <td>    0.728</td> <td>    3.380</td> <td> 0.002</td> <td>    0.988</td> <td>    3.931</td>\n",
       "</tr>\n",
       "<tr>\n",
       "  <th>C(fcategory, Sum)[S.high]:C(partner_status, Sum)[S.high]</th> <td>   -2.8431</td> <td>    0.999</td> <td>   -2.847</td> <td> 0.007</td> <td>   -4.863</td> <td>   -0.823</td>\n",
       "</tr>\n",
       "<tr>\n",
       "  <th>C(fcategory, Sum)[S.low]:C(partner_status, Sum)[S.high]</th>  <td>    1.7909</td> <td>    1.026</td> <td>    1.745</td> <td> 0.089</td> <td>   -0.285</td> <td>    3.867</td>\n",
       "</tr>\n",
       "</table>\n",
       "<table class=\"simpletable\">\n",
       "<tr>\n",
       "  <th>Omnibus:</th>       <td> 2.500</td> <th>  Durbin-Watson:     </th> <td>   2.626</td>\n",
       "</tr>\n",
       "<tr>\n",
       "  <th>Prob(Omnibus):</th> <td> 0.287</td> <th>  Jarque-Bera (JB):  </th> <td>   1.712</td>\n",
       "</tr>\n",
       "<tr>\n",
       "  <th>Skew:</th>          <td> 0.465</td> <th>  Prob(JB):          </th> <td>   0.425</td>\n",
       "</tr>\n",
       "<tr>\n",
       "  <th>Kurtosis:</th>      <td> 3.216</td> <th>  Cond. No.          </th> <td>    2.39</td>\n",
       "</tr>\n",
       "</table>"
      ],
      "text/plain": [
       "<class 'statsmodels.iolib.summary.Summary'>\n",
       "\"\"\"\n",
       "                            OLS Regression Results                            \n",
       "==============================================================================\n",
       "Dep. Variable:             conformity   R-squared:                       0.324\n",
       "Model:                            OLS   Adj. R-squared:                  0.237\n",
       "Method:                 Least Squares   F-statistic:                     3.734\n",
       "Date:                Sun, 03 Mar 2019   Prob (F-statistic):            0.00740\n",
       "Time:                        22:49:04   Log-Likelihood:                -129.10\n",
       "No. Observations:                  45   AIC:                             270.2\n",
       "Df Residuals:                      39   BIC:                             281.0\n",
       "Df Model:                           5                                         \n",
       "Covariance Type:            nonrobust                                         \n",
       "============================================================================================================================\n",
       "                                                               coef    std err          t      P>|t|      [0.025      0.975]\n",
       "----------------------------------------------------------------------------------------------------------------------------\n",
       "Intercept                                                   12.0508      0.728     16.564      0.000      10.579      13.522\n",
       "C(fcategory, Sum)[S.high]                                    0.1903      0.999      0.191      0.850      -1.830       2.210\n",
       "C(fcategory, Sum)[S.low]                                     1.0992      1.026      1.071      0.291      -0.977       3.175\n",
       "C(partner_status, Sum)[S.high]                               2.4591      0.728      3.380      0.002       0.988       3.931\n",
       "C(fcategory, Sum)[S.high]:C(partner_status, Sum)[S.high]    -2.8431      0.999     -2.847      0.007      -4.863      -0.823\n",
       "C(fcategory, Sum)[S.low]:C(partner_status, Sum)[S.high]      1.7909      1.026      1.745      0.089      -0.285       3.867\n",
       "==============================================================================\n",
       "Omnibus:                        2.500   Durbin-Watson:                   2.626\n",
       "Prob(Omnibus):                  0.287   Jarque-Bera (JB):                1.712\n",
       "Skew:                           0.465   Prob(JB):                        0.425\n",
       "Kurtosis:                       3.216   Cond. No.                         2.39\n",
       "==============================================================================\n",
       "\n",
       "Warnings:\n",
       "[1] Standard Errors assume that the covariance matrix of the errors is correctly specified.\n",
       "\"\"\""
      ]
     },
     "execution_count": 10,
     "metadata": {},
     "output_type": "execute_result"
    }
   ],
   "source": [
    "moore_lm.summary()"
   ]
  },
  {
   "cell_type": "code",
   "execution_count": 7,
   "metadata": {
    "collapsed": true
   },
   "outputs": [],
   "source": [
    "table = sm.stats.anova_lm(moore_lm, typ=2)"
   ]
  },
  {
   "cell_type": "code",
   "execution_count": 11,
   "metadata": {},
   "outputs": [
    {
     "data": {
      "text/html": [
       "<div>\n",
       "<style>\n",
       "    .dataframe thead tr:only-child th {\n",
       "        text-align: right;\n",
       "    }\n",
       "\n",
       "    .dataframe thead th {\n",
       "        text-align: left;\n",
       "    }\n",
       "\n",
       "    .dataframe tbody tr th {\n",
       "        vertical-align: top;\n",
       "    }\n",
       "</style>\n",
       "<table border=\"1\" class=\"dataframe\">\n",
       "  <thead>\n",
       "    <tr style=\"text-align: right;\">\n",
       "      <th></th>\n",
       "      <th>sum_sq</th>\n",
       "      <th>df</th>\n",
       "      <th>F</th>\n",
       "      <th>PR(&gt;F)</th>\n",
       "    </tr>\n",
       "  </thead>\n",
       "  <tbody>\n",
       "    <tr>\n",
       "      <th>C(fcategory, Sum)</th>\n",
       "      <td>11.614700</td>\n",
       "      <td>2.0</td>\n",
       "      <td>0.276958</td>\n",
       "      <td>0.759564</td>\n",
       "    </tr>\n",
       "    <tr>\n",
       "      <th>C(partner_status, Sum)</th>\n",
       "      <td>212.213778</td>\n",
       "      <td>1.0</td>\n",
       "      <td>10.120692</td>\n",
       "      <td>0.002874</td>\n",
       "    </tr>\n",
       "    <tr>\n",
       "      <th>C(fcategory, Sum):C(partner_status, Sum)</th>\n",
       "      <td>175.488928</td>\n",
       "      <td>2.0</td>\n",
       "      <td>4.184623</td>\n",
       "      <td>0.022572</td>\n",
       "    </tr>\n",
       "    <tr>\n",
       "      <th>Residual</th>\n",
       "      <td>817.763961</td>\n",
       "      <td>39.0</td>\n",
       "      <td>NaN</td>\n",
       "      <td>NaN</td>\n",
       "    </tr>\n",
       "  </tbody>\n",
       "</table>\n",
       "</div>"
      ],
      "text/plain": [
       "                                              sum_sq    df          F  \\\n",
       "C(fcategory, Sum)                          11.614700   2.0   0.276958   \n",
       "C(partner_status, Sum)                    212.213778   1.0  10.120692   \n",
       "C(fcategory, Sum):C(partner_status, Sum)  175.488928   2.0   4.184623   \n",
       "Residual                                  817.763961  39.0        NaN   \n",
       "\n",
       "                                            PR(>F)  \n",
       "C(fcategory, Sum)                         0.759564  \n",
       "C(partner_status, Sum)                    0.002874  \n",
       "C(fcategory, Sum):C(partner_status, Sum)  0.022572  \n",
       "Residual                                       NaN  "
      ]
     },
     "execution_count": 11,
     "metadata": {},
     "output_type": "execute_result"
    }
   ],
   "source": [
    "# See the result\n",
    "# sum_sq: sum of squares, df: Degree of freedom, F: F-value, PR(>F): P-value\n",
    "table"
   ]
  }
 ],
 "metadata": {
  "kernelspec": {
   "display_name": "Python 3",
   "language": "python",
   "name": "python3"
  },
  "language_info": {
   "codemirror_mode": {
    "name": "ipython",
    "version": 3
   },
   "file_extension": ".py",
   "mimetype": "text/x-python",
   "name": "python",
   "nbconvert_exporter": "python",
   "pygments_lexer": "ipython3",
   "version": "3.6.2"
  },
  "toc": {
   "base_numbering": 1,
   "nav_menu": {},
   "number_sections": true,
   "sideBar": true,
   "skip_h1_title": false,
   "title_cell": "Table of Contents",
   "title_sidebar": "Contents",
   "toc_cell": false,
   "toc_position": {},
   "toc_section_display": true,
   "toc_window_display": false
  }
 },
 "nbformat": 4,
 "nbformat_minor": 2
}
